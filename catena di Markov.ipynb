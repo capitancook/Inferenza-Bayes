{
 "cells": [
  {
   "cell_type": "markdown",
   "metadata": {},
   "source": [
    "# Catene di Markov\n",
    "\n",
    "Se non l'avete mai installata prima, cominciamo installando la libreria pomegranate per l'inferenza probabilistica togliendo il commento (carattere #) e eseguendo la seguente cella. \n",
    "Le prossime volte che userete queso quaderno nello stesso ambiente non sarà più necessario installare la libreria."
   ]
  },
  {
   "cell_type": "code",
   "execution_count": null,
   "metadata": {},
   "outputs": [],
   "source": [
    "# %pip install pomegranate"
   ]
  },
  {
   "cell_type": "markdown",
   "metadata": {},
   "source": [
    "Adesso carichiamo la libreria pomegranate:"
   ]
  },
  {
   "cell_type": "code",
   "execution_count": 1,
   "metadata": {},
   "outputs": [],
   "source": [
    "from pomegranate import *"
   ]
  },
  {
   "cell_type": "markdown",
   "metadata": {},
   "source": [
    "\n",
    "Poi, dobbiamo creare la distribuzione per lo stato inziale. Ovvero, dare un valore alle probabilità di uno dei  possibili stati iniziali: sole oppure pioggia"
   ]
  },
  {
   "cell_type": "code",
   "execution_count": 4,
   "metadata": {},
   "outputs": [],
   "source": [
    "statoIniziale = DiscreteDistribution({\n",
    "    \"sole\": 0.5,\n",
    "    \"pioggia\": 0.5\n",
    "})\n"
   ]
  },
  {
   "cell_type": "markdown",
   "metadata": {},
   "source": [
    "Adesso definiamo il modello di transizione. Ovvero le probabilità di una certa situazione metereologica di domani data quella odierna. "
   ]
  },
  {
   "cell_type": "code",
   "execution_count": 5,
   "metadata": {},
   "outputs": [],
   "source": [
    "\n",
    "\n",
    "modelloTransizione = ConditionalProbabilityTable([\n",
    "    [\"sole\", \"sole\", 0.8],\n",
    "    [\"sole\", \"pioggia\", 0.2],\n",
    "    [\"pioggia\", \"sole\", 0.3],\n",
    "    [\"pioggia\", \"pioggia\", 0.7]\n",
    "], [statoIniziale])\n"
   ]
  },
  {
   "cell_type": "markdown",
   "metadata": {},
   "source": [
    "Quindi possiamo creare il nostro modello, la nostra catena di MArkov"
   ]
  },
  {
   "cell_type": "code",
   "execution_count": 6,
   "metadata": {},
   "outputs": [],
   "source": [
    "\n",
    "modello = MarkovChain([statoIniziale, modelloTransizione])\n"
   ]
  },
  {
   "cell_type": "markdown",
   "metadata": {},
   "source": [
    "E, possiamo fare qualche domanda al modello.\n",
    "Come sarà il tempo nei prossimi 5 giorni?"
   ]
  },
  {
   "cell_type": "code",
   "execution_count": 7,
   "metadata": {},
   "outputs": [
    {
     "name": "stdout",
     "output_type": "stream",
     "text": [
      "['sole', 'sole', 'sole', 'pioggia', 'pioggia', 'pioggia', 'pioggia', 'sole', 'pioggia', 'pioggia']\n"
     ]
    }
   ],
   "source": [
    "import math\n",
    "# Sample 50 states from chain\n",
    "print(modello.sample(10))\n"
   ]
  },
  {
   "cell_type": "markdown",
   "metadata": {},
   "source": [
    "Possiamo chiedere anche: qual è la probabilità di avere una sequenza di situazioni meteo come \"sole\",\"sole\",\"pioggia\""
   ]
  },
  {
   "cell_type": "code",
   "execution_count": 10,
   "metadata": {},
   "outputs": [
    {
     "name": "stdout",
     "output_type": "stream",
     "text": [
      "0.12000000000000001\n"
     ]
    }
   ],
   "source": [
    "\n",
    "print(math.exp(modello.log_probability(['pioggia','sole',\"sole\"])))"
   ]
  }
 ],
 "metadata": {
  "kernelspec": {
   "display_name": "Python 3.9.5 64-bit",
   "language": "python",
   "name": "python3"
  },
  "language_info": {
   "codemirror_mode": {
    "name": "ipython",
    "version": 3
   },
   "file_extension": ".py",
   "mimetype": "text/x-python",
   "name": "python",
   "nbconvert_exporter": "python",
   "pygments_lexer": "ipython3",
   "version": "3.9.5"
  },
  "orig_nbformat": 4,
  "vscode": {
   "interpreter": {
    "hash": "81794d4967e6c3204c66dcd87b604927b115b27c00565d3d43f05ba2f3a2cb0d"
   }
  }
 },
 "nbformat": 4,
 "nbformat_minor": 2
}
